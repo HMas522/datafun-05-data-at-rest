{
 "cells": [
  {
   "attachments": {},
   "cell_type": "markdown",
   "metadata": {},
   "source": []
  },
  {
   "attachments": {},
   "cell_type": "markdown",
   "metadata": {},
   "source": [
    "# Module 5 Project -Task 1\n",
    "\n",
    "Author: [Hayley Massey](https://github.com/HMas522)\n",
    "Repository: [datafun-05-data-at-rest](https://github.com/HMas522/datafun-05-data-at-rest)"
   ]
  },
  {
   "attachments": {},
   "cell_type": "markdown",
   "metadata": {},
   "source": [
    "# 9.6 Clause"
   ]
  },
  {
   "cell_type": "code",
   "execution_count": 2,
   "metadata": {},
   "outputs": [
    {
     "name": "stdout",
     "output_type": "stream",
     "text": [
      "User tried to divide by zero\n",
      "\n",
      "Please enter two intger numbers\n",
      "\n",
      " 3.000 /  10.000 =  0.300\n"
     ]
    }
   ],
   "source": [
    "# dividebyzero.py\n",
    "\n",
    "\"\"\"Simple exception handling example\"\"\"\n",
    "\n",
    "while True:\n",
    "    # attempt to convert and divide values\n",
    "    try:\n",
    "        number1 = int(input('Enter numerator: '))\n",
    "        number2 = int(input('Enter denominator: '))\n",
    "        result = number1 / number2\n",
    "    except ValueError: #tried to convert non-numeric value to int\n",
    "        print('Please enter two intger numbers\\n')\n",
    "    except ZeroDivisionError: #denominator was 0\n",
    "        print('User tried to divide by zero\\n')\n",
    "    else: # if no exceptions occur; program will excute\n",
    "        print(f'{number1: .3f} / {number2: .3f} = {result: .3f}')\n",
    "        break #terminates the loop"
   ]
  }
 ],
 "metadata": {
  "kernelspec": {
   "display_name": "Python (.venv)",
   "language": "python",
   "name": ".venv"
  },
  "language_info": {
   "codemirror_mode": {
    "name": "ipython",
    "version": 3
   },
   "file_extension": ".py",
   "mimetype": "text/x-python",
   "name": "python",
   "nbconvert_exporter": "python",
   "pygments_lexer": "ipython3",
   "version": "3.11.3"
  },
  "orig_nbformat": 4
 },
 "nbformat": 4,
 "nbformat_minor": 2
}
