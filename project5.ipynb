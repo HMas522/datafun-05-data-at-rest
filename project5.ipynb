{
 "cells": [
  {
   "attachments": {},
   "cell_type": "markdown",
   "metadata": {},
   "source": [
    "# Module 5 Project -Task 1\n",
    "\n",
    "Author: [Hayley Massey](https://github.com/HMas522)\n",
    "Repository: [datafun-05-data-at-rest](https://github.com/HMas522/datafun-05-data-at-rest)"
   ]
  },
  {
   "attachments": {},
   "cell_type": "markdown",
   "metadata": {},
   "source": [
    "# Task 1- 9.3.1"
   ]
  },
  {
   "cell_type": "code",
   "execution_count": 19,
   "metadata": {},
   "outputs": [],
   "source": [
    "# Author's and their friend's account, username, and level in the new game Diablo 4\n",
    "\n",
    "with open('accounts.txt', mode='w') as accounts:\n",
    "    accounts.write('100 Haha 27\\n')\n",
    "    accounts.write('200 MakeAishFDN 27\\n')\n",
    "    accounts.write('300 Shuda 27\\n')\n",
    "    accounts.write('400 Chicken 15\\n')\n",
    "    accounts.write('500 Oreo 40\\n')"
   ]
  },
  {
   "attachments": {},
   "cell_type": "markdown",
   "metadata": {},
   "source": [
    "# Task 1 - 9.3.2"
   ]
  },
  {
   "cell_type": "code",
   "execution_count": 20,
   "metadata": {},
   "outputs": [
    {
     "name": "stdout",
     "output_type": "stream",
     "text": [
      "Account   Username  Player Level\n",
      "100       Haha              27\n",
      "200       MakeAishFDN        27\n",
      "300       Shuda             27\n",
      "400       Chicken           15\n",
      "500       Oreo              40\n"
     ]
    }
   ],
   "source": [
    "# Read data from Text File\n",
    "\n",
    "with open('accounts.txt', mode='r') as accounts:\n",
    "    print(f'{\"Account\":<10}{\"Username\":<10}{\"Player Level\":>10}')\n",
    "    for record in accounts:\n",
    "        account, username, player_level = record.split()\n",
    "        print(f'{account:<10}{username:<10}{player_level:>10}')"
   ]
  },
  {
   "attachments": {},
   "cell_type": "markdown",
   "metadata": {},
   "source": [
    "# Task 1 - 9.4"
   ]
  },
  {
   "cell_type": "code",
   "execution_count": 21,
   "metadata": {},
   "outputs": [],
   "source": [
    "# Husband changed his username from MakeAishFND (play on word Make a Wish foundation) then his online friends call him Make.\n",
    "# Husband then changes his usenname to MakeyMake\n",
    "\n",
    "accounts = open('accounts.txt', 'r')\n",
    "\n",
    "temp_file = open('temp_file.txt', 'w')\n",
    "\n",
    "with accounts, temp_file:\n",
    "    for record in accounts:\n",
    "        account, username, player_level = record.split()\n",
    "        if account != '200':\n",
    "            temp_file.write(record)\n",
    "        else:\n",
    "            new_record = ''.join([account, 'MakeyMake', player_level])\n",
    "            temp_file.write(new_record + '\\n')"
   ]
  }
 ],
 "metadata": {
  "kernelspec": {
   "display_name": "Python (.venv)",
   "language": "python",
   "name": ".venv"
  },
  "language_info": {
   "codemirror_mode": {
    "name": "ipython",
    "version": 3
   },
   "file_extension": ".py",
   "mimetype": "text/x-python",
   "name": "python",
   "nbconvert_exporter": "python",
   "pygments_lexer": "ipython3",
   "version": "3.11.3"
  },
  "orig_nbformat": 4
 },
 "nbformat": 4,
 "nbformat_minor": 2
}
